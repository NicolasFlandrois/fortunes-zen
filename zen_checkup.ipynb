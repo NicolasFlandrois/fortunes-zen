{
 "cells": [
  {
   "cell_type": "code",
   "execution_count": 1,
   "metadata": {},
   "outputs": [],
   "source": [
    "#!/usr/bin/python3\n",
    "# -*- coding: UTF8 -*-\n",
    "# Author: Nicolas Flandrois\n",
    "# Date: Monday, May 20th, 2020"
   ]
  },
  {
   "cell_type": "code",
   "execution_count": 2,
   "metadata": {},
   "outputs": [],
   "source": [
    "import os\n",
    "import pandas as pd\n",
    "\n",
    "pd.set_option(\"max_colwidth\", None)"
   ]
  },
  {
   "cell_type": "code",
   "execution_count": 3,
   "metadata": {},
   "outputs": [],
   "source": [
    "def fortune2dataframe(source_file):\n",
    "    \"\"\"Given the Source file path/name, this function will transform the raw\n",
    "    data into a Pandas' dataframe. This function is specifically made to suite\n",
    "    a fortune-mod standardized format, as an input.\"\"\"\n",
    "    with open(source_file, 'r') as f:\n",
    "        data = f.read()\n",
    "        quote_list = data.replace('\\n', '').split('%')\n",
    "        clean_list = [x.strip() for x in quote_list if x]\n",
    "        splited_quotes = [n.split('     — ') for n in clean_list]\n",
    "\n",
    "        df = pd.DataFrame(splited_quotes, columns=['Quotes', 'Authors'])\n",
    "\n",
    "        return df"
   ]
  },
  {
   "cell_type": "markdown",
   "metadata": {},
   "source": [
    "**Define the Dataframe** & **Sampling**"
   ]
  },
  {
   "cell_type": "code",
   "execution_count": 4,
   "metadata": {},
   "outputs": [
    {
     "data": {
      "text/html": [
       "<div>\n",
       "<style scoped>\n",
       "    .dataframe tbody tr th:only-of-type {\n",
       "        vertical-align: middle;\n",
       "    }\n",
       "\n",
       "    .dataframe tbody tr th {\n",
       "        vertical-align: top;\n",
       "    }\n",
       "\n",
       "    .dataframe thead th {\n",
       "        text-align: right;\n",
       "    }\n",
       "</style>\n",
       "<table border=\"1\" class=\"dataframe\">\n",
       "  <thead>\n",
       "    <tr style=\"text-align: right;\">\n",
       "      <th></th>\n",
       "      <th>Quotes</th>\n",
       "      <th>Authors</th>\n",
       "    </tr>\n",
       "  </thead>\n",
       "  <tbody>\n",
       "    <tr>\n",
       "      <th>0</th>\n",
       "      <td>Zen is not some kind of excitement, but concentration on our usual everyday routine.</td>\n",
       "      <td>Shunryu Suzuki</td>\n",
       "    </tr>\n",
       "    <tr>\n",
       "      <th>1</th>\n",
       "      <td>Since the time we were born from our mother's womb, the only thing we have seen is the present. We have never seen the past and we have never seen the future. Wherever we are, whatever time it is, it is only the present.</td>\n",
       "      <td>Khenpo Tsultrim Rinpoche</td>\n",
       "    </tr>\n",
       "    <tr>\n",
       "      <th>2</th>\n",
       "      <td>Rather than being your thoughts and emotions, be the awareness behind them.</td>\n",
       "      <td>Eckhart Tolle</td>\n",
       "    </tr>\n",
       "    <tr>\n",
       "      <th>3</th>\n",
       "      <td>Your suffering is never caused by the person you are blaming.</td>\n",
       "      <td>Byron Katie</td>\n",
       "    </tr>\n",
       "    <tr>\n",
       "      <th>4</th>\n",
       "      <td>Death is not an error. It is not a failure. It is taking off a tight shoe.</td>\n",
       "      <td>Ram Dass</td>\n",
       "    </tr>\n",
       "    <tr>\n",
       "      <th>...</th>\n",
       "      <td>...</td>\n",
       "      <td>...</td>\n",
       "    </tr>\n",
       "    <tr>\n",
       "      <th>342</th>\n",
       "      <td>Whatever comes up, see what is without calling it right or wrong.</td>\n",
       "      <td>Pema Chödrön</td>\n",
       "    </tr>\n",
       "    <tr>\n",
       "      <th>343</th>\n",
       "      <td>You can't live at all unless you can live fully now.</td>\n",
       "      <td>Alan Watts</td>\n",
       "    </tr>\n",
       "    <tr>\n",
       "      <th>344</th>\n",
       "      <td>My speaking is meant to shake you awake, not to tell you how to dream better.</td>\n",
       "      <td>Adyashanti</td>\n",
       "    </tr>\n",
       "    <tr>\n",
       "      <th>345</th>\n",
       "      <td>Tackling destructive emotions and practicing loving-kindness is how we should live in the here and now.</td>\n",
       "      <td>Dalai Lama XIV</td>\n",
       "    </tr>\n",
       "    <tr>\n",
       "      <th>346</th>\n",
       "      <td>Laughter is threatening to tyrants.</td>\n",
       "      <td>Alan Watts</td>\n",
       "    </tr>\n",
       "  </tbody>\n",
       "</table>\n",
       "<p>347 rows × 2 columns</p>\n",
       "</div>"
      ],
      "text/plain": [
       "                                                                                                                                                                                                                           Quotes  \\\n",
       "0                                                                                                                                            Zen is not some kind of excitement, but concentration on our usual everyday routine.   \n",
       "1    Since the time we were born from our mother's womb, the only thing we have seen is the present. We have never seen the past and we have never seen the future. Wherever we are, whatever time it is, it is only the present.   \n",
       "2                                                                                                                                                     Rather than being your thoughts and emotions, be the awareness behind them.   \n",
       "3                                                                                                                                                                   Your suffering is never caused by the person you are blaming.   \n",
       "4                                                                                                                                                      Death is not an error. It is not a failure. It is taking off a tight shoe.   \n",
       "..                                                                                                                                                                                                                            ...   \n",
       "342                                                                                                                                                             Whatever comes up, see what is without calling it right or wrong.   \n",
       "343                                                                                                                                                                          You can't live at all unless you can live fully now.   \n",
       "344                                                                                                                                                 My speaking is meant to shake you awake, not to tell you how to dream better.   \n",
       "345                                                                                                                       Tackling destructive emotions and practicing loving-kindness is how we should live in the here and now.   \n",
       "346                                                                                                                                                                                           Laughter is threatening to tyrants.   \n",
       "\n",
       "                      Authors  \n",
       "0              Shunryu Suzuki  \n",
       "1    Khenpo Tsultrim Rinpoche  \n",
       "2               Eckhart Tolle  \n",
       "3                 Byron Katie  \n",
       "4                    Ram Dass  \n",
       "..                        ...  \n",
       "342              Pema Chödrön  \n",
       "343                Alan Watts  \n",
       "344                Adyashanti  \n",
       "345            Dalai Lama XIV  \n",
       "346                Alan Watts  \n",
       "\n",
       "[347 rows x 2 columns]"
      ]
     },
     "execution_count": 4,
     "metadata": {},
     "output_type": "execute_result"
    }
   ],
   "source": [
    "df = fortune2dataframe(os.path.abspath(\"zen\"))\n",
    "df"
   ]
  },
  {
   "cell_type": "markdown",
   "metadata": {},
   "source": [
    "# A bit of Checkup for cleanning\n",
    "- Checking for **Duplicate rows** (same Quote & same Author)"
   ]
  },
  {
   "cell_type": "code",
   "execution_count": 5,
   "metadata": {},
   "outputs": [
    {
     "data": {
      "text/html": [
       "<div>\n",
       "<style scoped>\n",
       "    .dataframe tbody tr th:only-of-type {\n",
       "        vertical-align: middle;\n",
       "    }\n",
       "\n",
       "    .dataframe tbody tr th {\n",
       "        vertical-align: top;\n",
       "    }\n",
       "\n",
       "    .dataframe thead th {\n",
       "        text-align: right;\n",
       "    }\n",
       "</style>\n",
       "<table border=\"1\" class=\"dataframe\">\n",
       "  <thead>\n",
       "    <tr style=\"text-align: right;\">\n",
       "      <th></th>\n",
       "      <th>Quotes</th>\n",
       "      <th>Authors</th>\n",
       "    </tr>\n",
       "  </thead>\n",
       "  <tbody>\n",
       "  </tbody>\n",
       "</table>\n",
       "</div>"
      ],
      "text/plain": [
       "Empty DataFrame\n",
       "Columns: [Quotes, Authors]\n",
       "Index: []"
      ]
     },
     "execution_count": 5,
     "metadata": {},
     "output_type": "execute_result"
    }
   ],
   "source": [
    "df[df.duplicated()]"
   ]
  },
  {
   "cell_type": "markdown",
   "metadata": {},
   "source": [
    "- Checking for **Duplicate Quotes** (Same Quote, Any Author)"
   ]
  },
  {
   "cell_type": "code",
   "execution_count": 6,
   "metadata": {},
   "outputs": [
    {
     "data": {
      "text/html": [
       "<div>\n",
       "<style scoped>\n",
       "    .dataframe tbody tr th:only-of-type {\n",
       "        vertical-align: middle;\n",
       "    }\n",
       "\n",
       "    .dataframe tbody tr th {\n",
       "        vertical-align: top;\n",
       "    }\n",
       "\n",
       "    .dataframe thead th {\n",
       "        text-align: right;\n",
       "    }\n",
       "</style>\n",
       "<table border=\"1\" class=\"dataframe\">\n",
       "  <thead>\n",
       "    <tr style=\"text-align: right;\">\n",
       "      <th></th>\n",
       "      <th>Quotes</th>\n",
       "      <th>Authors</th>\n",
       "    </tr>\n",
       "  </thead>\n",
       "  <tbody>\n",
       "  </tbody>\n",
       "</table>\n",
       "</div>"
      ],
      "text/plain": [
       "Empty DataFrame\n",
       "Columns: [Quotes, Authors]\n",
       "Index: []"
      ]
     },
     "execution_count": 6,
     "metadata": {},
     "output_type": "execute_result"
    }
   ],
   "source": [
    "df[df.duplicated(['Quotes'])]"
   ]
  },
  {
   "cell_type": "markdown",
   "metadata": {},
   "source": [
    "- Checking for **unwanted data** (typical issues from initial parsing Twitter2Fortune Bot)"
   ]
  },
  {
   "cell_type": "code",
   "execution_count": 7,
   "metadata": {},
   "outputs": [
    {
     "data": {
      "text/html": [
       "<div>\n",
       "<style scoped>\n",
       "    .dataframe tbody tr th:only-of-type {\n",
       "        vertical-align: middle;\n",
       "    }\n",
       "\n",
       "    .dataframe tbody tr th {\n",
       "        vertical-align: top;\n",
       "    }\n",
       "\n",
       "    .dataframe thead th {\n",
       "        text-align: right;\n",
       "    }\n",
       "</style>\n",
       "<table border=\"1\" class=\"dataframe\">\n",
       "  <thead>\n",
       "    <tr style=\"text-align: right;\">\n",
       "      <th></th>\n",
       "      <th>Quotes</th>\n",
       "      <th>Authors</th>\n",
       "    </tr>\n",
       "  </thead>\n",
       "  <tbody>\n",
       "  </tbody>\n",
       "</table>\n",
       "</div>"
      ],
      "text/plain": [
       "Empty DataFrame\n",
       "Columns: [Quotes, Authors]\n",
       "Index: []"
      ]
     },
     "execution_count": 7,
     "metadata": {},
     "output_type": "execute_result"
    }
   ],
   "source": [
    "df[df['Quotes'].str.contains('http')]\n",
    "\n",
    "df[df['Authors'].str.contains('http')]\n",
    "\n",
    "df[df['Authors'].str.match('None')]"
   ]
  },
  {
   "cell_type": "markdown",
   "metadata": {},
   "source": [
    "# Statistics\n",
    "- **How Many Quotes do we have?**"
   ]
  },
  {
   "cell_type": "code",
   "execution_count": 8,
   "metadata": {},
   "outputs": [
    {
     "data": {
      "text/plain": [
       "Quotes     347\n",
       "Authors    347\n",
       "dtype: int64"
      ]
     },
     "execution_count": 8,
     "metadata": {},
     "output_type": "execute_result"
    }
   ],
   "source": [
    "df.count()"
   ]
  },
  {
   "cell_type": "markdown",
   "metadata": {},
   "source": [
    "- **Which Author is quoted the most frequently?**"
   ]
  },
  {
   "cell_type": "code",
   "execution_count": 10,
   "metadata": {
    "scrolled": false
   },
   "outputs": [
    {
     "name": "stdout",
     "output_type": "stream",
     "text": [
      "Eckhart Tolle                                                        42\n",
      "Alan Watts                                                           27\n",
      "Thich Nhat Hanh                                                      23\n",
      "Dōgen Zenji                                                          20\n",
      "Shunryu Suzuki                                                       15\n",
      "Byron Katie                                                          12\n",
      "Dalai Lama XIV                                                       12\n",
      "Bodhidharma                                                           9\n",
      "Lao Tzu                                                               8\n",
      "Ajahn Chah                                                            7\n",
      "Adyashanti                                                            6\n",
      "Lao Tzu, Tao Te Ching                                                 6\n",
      "Haemin Sunim                                                          6\n",
      "Jack Kornfield                                                        5\n",
      "Mingyur Rinpoche                                                      4\n",
      "Huang Po                                                              4\n",
      "Pema Chödrön                                                          4\n",
      "Sharon Salzberg                                                       4\n",
      "Lama Surya Das                                                        3\n",
      "Zen proverb                                                           3\n",
      "Buddhist proverb                                                      3\n",
      "Chögyam Trungpa                                                       3\n",
      "Ajahn Brahm                                                           3\n",
      "D. T. Suzuki                                                          3\n",
      "Sadhguru                                                              3\n",
      "Sengcan                                                               2\n",
      "Linji Yixuan                                                          2\n",
      "Chamtrul Rinpoche                                                     2\n",
      "Teachings of the Buddha                                               2\n",
      "B. D. Schiers                                                         2\n",
      "Ram Dass                                                              2\n",
      "Huineng                                                               2\n",
      "Stephen Batchelor                                                     2\n",
      "Zhuangzi                                                              2\n",
      "Thanissaro Bhikkhu                                                    2\n",
      "Deng Ming-Dao                                                         2\n",
      "Osho                                                                  2\n",
      "Mark Epstein                                                          1\n",
      "Thomas Merton, The Way of Chuang Tzu                                  1\n",
      "Sosan Zenji                                                           1\n",
      "Taigen Dan Leighton                                                   1\n",
      "Ming-Dao Deng                                                         1\n",
      "Jaggi Vasudev                                                         1\n",
      "Kamal Ravikant                                                        1\n",
      "Philippe Djian                                                        1\n",
      "Katsuki Sekida, Zen Training                                          1\n",
      "Hanshan Deqing                                                        1\n",
      "Ma-Tsu                                                                1\n",
      "Thomas Merton                                                         1\n",
      "John Tarrant                                                          1\n",
      "Gangaji                                                               1\n",
      "Napoleon Hill                                                         1\n",
      "Alfred Korzybski                                                      1\n",
      "Thich Nhat Hanh, The Heart of the Buddha's Teaching                   1\n",
      "Bruce Lee                                                             1\n",
      "Leonard Cohen                                                         1\n",
      "Eckhart Tolle, Power of Now                                           1\n",
      "Alfred North Whitehead                                                1\n",
      "Master Taisen Deshimaru                                               1\n",
      "Chatral Sangye Dorje Rinpoche                                         1\n",
      "Cati Vanden Breul                                                     1\n",
      "Khenpo Tsultrim Rinpoche                                              1\n",
      "E.E. Cummings, Selected Poems                                         1\n",
      "Clarice Lispector                                                     1\n",
      "Surangama Sutra                                                       1\n",
      "Milarepa                                                              1\n",
      "Roger Zelazny                                                         1\n",
      "Karl Popper                                                           1\n",
      "Lin Yutang                                                            1\n",
      "Toni Packer                                                           1\n",
      "French proverb                                                        1\n",
      "Zen Master Ummon                                                      1\n",
      "Howard Fast                                                           1\n",
      "Peter Matthiessen                                                     1\n",
      "Brad Warner                                                           1\n",
      "SN Goenka                                                             1\n",
      "Naval Ravikant                                                        1\n",
      "Jack Kerouac                                                          1\n",
      "William Scott Wilson                                                  1\n",
      "Nansen                                                                1\n",
      "17th Karmapa                                                          1\n",
      "Christmas Humphreys                                                   1\n",
      "Thich Nhat Hanh, Being Peace                                          1\n",
      "The Buddha                                                            1\n",
      "Buddha                                                                1\n",
      "Gyalwang Drukpa                                                       1\n",
      "Shozan Jack Haubner                                                   1\n",
      "Matthieu Ricard                                                       1\n",
      "Eckhart Tolle, The Power of Now                                       1\n",
      "Ryokan                                                                1\n",
      "D.T. Suzuki                                                           1\n",
      "The Buddha (Dhammapada verse 112)                                     1\n",
      "Laozi, Hua Hu Ching                                                   1\n",
      "Buson                                                                 1\n",
      "Hagakure, Book of the Samurai                                         1\n",
      "Tara Brach, Radical Acceptance                                        1\n",
      "Shinshu Roberts                                                       1\n",
      "Taisen Deshimaru                                                      1\n",
      "Yamamoto Tsunetomo                                                    1\n",
      "Bruce Lee, Tao of Jeet Kune Do                                        1\n",
      "Jim Rohn                                                              1\n",
      "Buddhist Proverb                                                      1\n",
      "Dalai Lama                                                            1\n",
      "Rumi                                                                  1\n",
      "Bokar Rinpoche                                                        1\n",
      "Alan Watts - The Way of Zen                                           1\n",
      "Confucius                                                             1\n",
      "Zen                                                                   1\n",
      "Chogyam Trungpa Rinpoche                                              1\n",
      "Joko Beck                                                             1\n",
      "German proverb                                                        1\n",
      "Robert M. Pirsig                                                      1\n",
      "Chokyi Nyima Rinpoche                                                 1\n",
      "Allen Ginsberg                                                        1\n",
      "Douglas Penick                                                        1\n",
      "Hua Ching Ni                                                          1\n",
      "Hayley Hasselhoff                                                     1\n",
      "Yongey Mingyur                                                        1\n",
      "Taoist proverb                                                        1\n",
      "Shantideva                                                            1\n",
      "E. Stanley Jones on Mahatma Gandhi, Gandhi: Portrayal of a Friend     1\n",
      "Tilopa                                                                1\n",
      "Dilgo Khyentse Rinpoche                                               1\n",
      "David G. Benner                                                       1\n",
      "Mooji                                                                 1\n",
      "Name: Authors, dtype: int64\n"
     ]
    }
   ],
   "source": [
    "with pd.option_context('display.max_rows', None):\n",
    "    print(df['Authors'].value_counts())"
   ]
  },
  {
   "cell_type": "code",
   "execution_count": null,
   "metadata": {},
   "outputs": [],
   "source": []
  }
 ],
 "metadata": {
  "kernelspec": {
   "display_name": "Python 3",
   "language": "python",
   "name": "python3"
  },
  "language_info": {
   "codemirror_mode": {
    "name": "ipython",
    "version": 3
   },
   "file_extension": ".py",
   "mimetype": "text/x-python",
   "name": "python",
   "nbconvert_exporter": "python",
   "pygments_lexer": "ipython3",
   "version": "3.8.0"
  }
 },
 "nbformat": 4,
 "nbformat_minor": 4
}
