{
 "cells": [
  {
   "cell_type": "code",
   "execution_count": 1,
   "metadata": {},
   "outputs": [],
   "source": [
    "#!/usr/bin/python3\n",
    "# -*- coding: UTF8 -*-\n",
    "# Author: Nicolas Flandrois\n",
    "# Date: Monday, May 20th, 2020"
   ]
  },
  {
   "cell_type": "code",
   "execution_count": 2,
   "metadata": {},
   "outputs": [],
   "source": [
    "import os\n",
    "import pandas as pd\n",
    "\n",
    "pd.set_option(\"max_colwidth\", None)"
   ]
  },
  {
   "cell_type": "code",
   "execution_count": 3,
   "metadata": {},
   "outputs": [],
   "source": [
    "def fortune2dataframe(source_file):\n",
    "    \"\"\"Given the Source file path/name, this function will transform the raw\n",
    "    data into a Pandas' dataframe. This function is specifically made to suite\n",
    "    a fortune-mod standardized format, as an input.\"\"\"\n",
    "    with open(source_file, 'r') as f:\n",
    "        data = f.read()\n",
    "        quote_list = data.replace('\\n', '').split('%')\n",
    "        clean_list = [x.strip() for x in quote_list if x]\n",
    "        splited_quotes = [n.split('     — ') for n in clean_list]\n",
    "\n",
    "        df = pd.DataFrame(splited_quotes, columns=['Quotes', 'Authors'])\n",
    "\n",
    "        return df"
   ]
  },
  {
   "cell_type": "markdown",
   "metadata": {},
   "source": [
    "**Define the Dataframe** & **Sampling**"
   ]
  },
  {
   "cell_type": "code",
   "execution_count": 4,
   "metadata": {},
   "outputs": [
    {
     "data": {
      "text/html": [
       "<div>\n",
       "<style scoped>\n",
       "    .dataframe tbody tr th:only-of-type {\n",
       "        vertical-align: middle;\n",
       "    }\n",
       "\n",
       "    .dataframe tbody tr th {\n",
       "        vertical-align: top;\n",
       "    }\n",
       "\n",
       "    .dataframe thead th {\n",
       "        text-align: right;\n",
       "    }\n",
       "</style>\n",
       "<table border=\"1\" class=\"dataframe\">\n",
       "  <thead>\n",
       "    <tr style=\"text-align: right;\">\n",
       "      <th></th>\n",
       "      <th>Quotes</th>\n",
       "      <th>Authors</th>\n",
       "    </tr>\n",
       "  </thead>\n",
       "  <tbody>\n",
       "    <tr>\n",
       "      <th>0</th>\n",
       "      <td>Zen is not some kind of excitement, but concentration on our usual everyday routine.</td>\n",
       "      <td>Shunryu Suzuki</td>\n",
       "    </tr>\n",
       "    <tr>\n",
       "      <th>1</th>\n",
       "      <td>Since the time we were born from our mother's womb, the only thing we have seen is the present. We have never seen the past and we have never seen the future. Wherever we are, whatever time it is, it is only the present.</td>\n",
       "      <td>Khenpo Tsultrim Rinpoche</td>\n",
       "    </tr>\n",
       "    <tr>\n",
       "      <th>2</th>\n",
       "      <td>Rather than being your thoughts and emotions, be the awareness behind them.</td>\n",
       "      <td>Eckhart Tolle</td>\n",
       "    </tr>\n",
       "    <tr>\n",
       "      <th>3</th>\n",
       "      <td>Your suffering is never caused by the person you are blaming.</td>\n",
       "      <td>Byron Katie</td>\n",
       "    </tr>\n",
       "    <tr>\n",
       "      <th>4</th>\n",
       "      <td>Death is not an error. It is not a failure. It is taking off a tight shoe.</td>\n",
       "      <td>Ram Dass</td>\n",
       "    </tr>\n",
       "    <tr>\n",
       "      <th>...</th>\n",
       "      <td>...</td>\n",
       "      <td>...</td>\n",
       "    </tr>\n",
       "    <tr>\n",
       "      <th>571</th>\n",
       "      <td>When love and hate are both absent, everything becomes clear and undisguised.</td>\n",
       "      <td>Sengcan</td>\n",
       "    </tr>\n",
       "    <tr>\n",
       "      <th>572</th>\n",
       "      <td>To be calm is the highest achievement of the self.</td>\n",
       "      <td>Zen Proverb</td>\n",
       "    </tr>\n",
       "    <tr>\n",
       "      <th>573</th>\n",
       "      <td>I've just said something, but I don't really know whether I've said anything or not.</td>\n",
       "      <td>Zhuangzi</td>\n",
       "    </tr>\n",
       "    <tr>\n",
       "      <th>574</th>\n",
       "      <td>We make a vessel from a lump of clay; It is the space inside the vessel that makes it useful.</td>\n",
       "      <td>Taoist Proverb</td>\n",
       "    </tr>\n",
       "    <tr>\n",
       "      <th>575</th>\n",
       "      <td>When you realize there is nothing lacking, the whole world belongs to you.</td>\n",
       "      <td>Zen Proverb</td>\n",
       "    </tr>\n",
       "  </tbody>\n",
       "</table>\n",
       "<p>576 rows × 2 columns</p>\n",
       "</div>"
      ],
      "text/plain": [
       "                                                                                                                                                                                                                           Quotes  \\\n",
       "0                                                                                                                                            Zen is not some kind of excitement, but concentration on our usual everyday routine.   \n",
       "1    Since the time we were born from our mother's womb, the only thing we have seen is the present. We have never seen the past and we have never seen the future. Wherever we are, whatever time it is, it is only the present.   \n",
       "2                                                                                                                                                     Rather than being your thoughts and emotions, be the awareness behind them.   \n",
       "3                                                                                                                                                                   Your suffering is never caused by the person you are blaming.   \n",
       "4                                                                                                                                                      Death is not an error. It is not a failure. It is taking off a tight shoe.   \n",
       "..                                                                                                                                                                                                                            ...   \n",
       "571                                                                                                                                                 When love and hate are both absent, everything becomes clear and undisguised.   \n",
       "572                                                                                                                                                                            To be calm is the highest achievement of the self.   \n",
       "573                                                                                                                                          I've just said something, but I don't really know whether I've said anything or not.   \n",
       "574                                                                                                                                 We make a vessel from a lump of clay; It is the space inside the vessel that makes it useful.   \n",
       "575                                                                                                                                                    When you realize there is nothing lacking, the whole world belongs to you.   \n",
       "\n",
       "                      Authors  \n",
       "0              Shunryu Suzuki  \n",
       "1    Khenpo Tsultrim Rinpoche  \n",
       "2               Eckhart Tolle  \n",
       "3                 Byron Katie  \n",
       "4                    Ram Dass  \n",
       "..                        ...  \n",
       "571                   Sengcan  \n",
       "572               Zen Proverb  \n",
       "573                  Zhuangzi  \n",
       "574            Taoist Proverb  \n",
       "575               Zen Proverb  \n",
       "\n",
       "[576 rows x 2 columns]"
      ]
     },
     "execution_count": 4,
     "metadata": {},
     "output_type": "execute_result"
    }
   ],
   "source": [
    "df = fortune2dataframe(os.path.abspath(\"zen\"))\n",
    "df"
   ]
  },
  {
   "cell_type": "markdown",
   "metadata": {},
   "source": [
    "# A bit of Checkup for cleanning\n",
    "- Checking for **Duplicate rows** (same Quote & same Author)"
   ]
  },
  {
   "cell_type": "code",
   "execution_count": 5,
   "metadata": {},
   "outputs": [
    {
     "data": {
      "text/html": [
       "<div>\n",
       "<style scoped>\n",
       "    .dataframe tbody tr th:only-of-type {\n",
       "        vertical-align: middle;\n",
       "    }\n",
       "\n",
       "    .dataframe tbody tr th {\n",
       "        vertical-align: top;\n",
       "    }\n",
       "\n",
       "    .dataframe thead th {\n",
       "        text-align: right;\n",
       "    }\n",
       "</style>\n",
       "<table border=\"1\" class=\"dataframe\">\n",
       "  <thead>\n",
       "    <tr style=\"text-align: right;\">\n",
       "      <th></th>\n",
       "      <th>Quotes</th>\n",
       "      <th>Authors</th>\n",
       "    </tr>\n",
       "  </thead>\n",
       "  <tbody>\n",
       "  </tbody>\n",
       "</table>\n",
       "</div>"
      ],
      "text/plain": [
       "Empty DataFrame\n",
       "Columns: [Quotes, Authors]\n",
       "Index: []"
      ]
     },
     "execution_count": 5,
     "metadata": {},
     "output_type": "execute_result"
    }
   ],
   "source": [
    "df[df.duplicated()]"
   ]
  },
  {
   "cell_type": "markdown",
   "metadata": {},
   "source": [
    "- Checking for **Duplicate Quotes** (Same Quote, Any Author)"
   ]
  },
  {
   "cell_type": "code",
   "execution_count": 6,
   "metadata": {},
   "outputs": [
    {
     "data": {
      "text/html": [
       "<div>\n",
       "<style scoped>\n",
       "    .dataframe tbody tr th:only-of-type {\n",
       "        vertical-align: middle;\n",
       "    }\n",
       "\n",
       "    .dataframe tbody tr th {\n",
       "        vertical-align: top;\n",
       "    }\n",
       "\n",
       "    .dataframe thead th {\n",
       "        text-align: right;\n",
       "    }\n",
       "</style>\n",
       "<table border=\"1\" class=\"dataframe\">\n",
       "  <thead>\n",
       "    <tr style=\"text-align: right;\">\n",
       "      <th></th>\n",
       "      <th>Quotes</th>\n",
       "      <th>Authors</th>\n",
       "    </tr>\n",
       "  </thead>\n",
       "  <tbody>\n",
       "  </tbody>\n",
       "</table>\n",
       "</div>"
      ],
      "text/plain": [
       "Empty DataFrame\n",
       "Columns: [Quotes, Authors]\n",
       "Index: []"
      ]
     },
     "execution_count": 6,
     "metadata": {},
     "output_type": "execute_result"
    }
   ],
   "source": [
    "df[df.duplicated(['Quotes'])]"
   ]
  },
  {
   "cell_type": "markdown",
   "metadata": {},
   "source": [
    "- Checking for **unwanted data** (typical issues from initial parsing Twitter2Fortune Bot)"
   ]
  },
  {
   "cell_type": "code",
   "execution_count": 7,
   "metadata": {},
   "outputs": [
    {
     "data": {
      "text/html": [
       "<div>\n",
       "<style scoped>\n",
       "    .dataframe tbody tr th:only-of-type {\n",
       "        vertical-align: middle;\n",
       "    }\n",
       "\n",
       "    .dataframe tbody tr th {\n",
       "        vertical-align: top;\n",
       "    }\n",
       "\n",
       "    .dataframe thead th {\n",
       "        text-align: right;\n",
       "    }\n",
       "</style>\n",
       "<table border=\"1\" class=\"dataframe\">\n",
       "  <thead>\n",
       "    <tr style=\"text-align: right;\">\n",
       "      <th></th>\n",
       "      <th>Quotes</th>\n",
       "      <th>Authors</th>\n",
       "    </tr>\n",
       "  </thead>\n",
       "  <tbody>\n",
       "  </tbody>\n",
       "</table>\n",
       "</div>"
      ],
      "text/plain": [
       "Empty DataFrame\n",
       "Columns: [Quotes, Authors]\n",
       "Index: []"
      ]
     },
     "execution_count": 7,
     "metadata": {},
     "output_type": "execute_result"
    }
   ],
   "source": [
    "df[df['Quotes'].str.contains('http')]\n",
    "\n",
    "df[df['Authors'].str.contains('http')]\n",
    "\n",
    "df[df['Authors'].str.match('None')]"
   ]
  },
  {
   "cell_type": "markdown",
   "metadata": {},
   "source": [
    "# Statistics\n",
    "- **How Many Quotes do we have?**"
   ]
  },
  {
   "cell_type": "code",
   "execution_count": 8,
   "metadata": {},
   "outputs": [
    {
     "data": {
      "text/plain": [
       "576"
      ]
     },
     "execution_count": 8,
     "metadata": {},
     "output_type": "execute_result"
    }
   ],
   "source": [
    "total_quotes = df['Quotes'].count()\n",
    "total_quotes"
   ]
  },
  {
   "cell_type": "markdown",
   "metadata": {},
   "source": [
    "- If 1 quote was displayed Once a day, everyday, all year long... How long would it take to circle round?"
   ]
  },
  {
   "cell_type": "code",
   "execution_count": 9,
   "metadata": {},
   "outputs": [
    {
     "data": {
      "text/plain": [
       "'1 year(s), 7 month(s), 2 week(s), and 1 day(s).'"
      ]
     },
     "execution_count": 9,
     "metadata": {},
     "output_type": "execute_result"
    }
   ],
   "source": [
    "yr = int(total_quotes // 365.25)\n",
    "wks = int(total_quotes % 365.25 // 7)\n",
    "mth = f'{wks // 4} month(s), {wks % 4} week(s)'  \n",
    "days = int(round(total_quotes % 365.25 % 7))\n",
    "f'{yr} year(s), {mth}, and {days} day(s).'"
   ]
  },
  {
   "cell_type": "markdown",
   "metadata": {},
   "source": [
    "- **How many Authors do we have?**"
   ]
  },
  {
   "cell_type": "code",
   "execution_count": 10,
   "metadata": {},
   "outputs": [
    {
     "data": {
      "text/plain": [
       "165"
      ]
     },
     "execution_count": 10,
     "metadata": {},
     "output_type": "execute_result"
    }
   ],
   "source": [
    "auth_grp = df.groupby('Authors').size()\n",
    "auth_grp.count()"
   ]
  },
  {
   "cell_type": "markdown",
   "metadata": {},
   "source": [
    "- **Which Author is quoted the most frequently?**"
   ]
  },
  {
   "cell_type": "code",
   "execution_count": 11,
   "metadata": {
    "scrolled": true
   },
   "outputs": [
    {
     "name": "stdout",
     "output_type": "stream",
     "text": [
      "Authors\n",
      "Eckhart Tolle                                                        59\n",
      "Lao Tzu                                                              40\n",
      "Alan Watts                                                           38\n",
      "Thich Nhat Hanh                                                      31\n",
      "Dōgen Zenji                                                          26\n",
      "Zen Proverb                                                          25\n",
      "Byron Katie                                                          20\n",
      "B.D. Schiers                                                         18\n",
      "Shunryu Suzuki                                                       17\n",
      "Dalai Lama XIV                                                       15\n",
      "Bodhidharma                                                          13\n",
      "Bruce Lee                                                            12\n",
      "Ajahn Chah                                                           10\n",
      "Haemin Sunim                                                         10\n",
      "Zhuangzi                                                              8\n",
      "Buddhist Proverb                                                      7\n",
      "Adyashanti                                                            7\n",
      "D.T. Suzuki                                                           6\n",
      "Pema Chödrön                                                          6\n",
      "Jack Kornfield                                                        6\n",
      "Deng Ming-Dao                                                         5\n",
      "Huang Po                                                              5\n",
      "Lama Surya Das                                                        4\n",
      "Mingyur Rinpoche                                                      4\n",
      "Sharon Salzberg                                                       4\n",
      "Taoist Proverb                                                        4\n",
      "Chögyam Trungpa                                                       4\n",
      "Sadhguru                                                              3\n",
      "Ajahn Brahm                                                           3\n",
      "Huineng                                                               3\n",
      "Teachings of the Buddha                                               3\n",
      "Rumi                                                                  3\n",
      "Gangaji                                                               3\n",
      "Milarepa                                                              3\n",
      "Sengcan                                                               3\n",
      "German Proverb                                                        2\n",
      "Osho                                                                  2\n",
      "Anonymous                                                             2\n",
      "Ming-Dao Deng                                                         2\n",
      "Cati Vanden Breul                                                     2\n",
      "Linji Yixuan                                                          2\n",
      "Chamtrul Rinpoche                                                     2\n",
      "Confucius                                                             2\n",
      "Deepak Chopra                                                         2\n",
      "Ram Dass                                                              2\n",
      "Pythagoras                                                            2\n",
      "Kari Hohne                                                            2\n",
      "17th Karmapa                                                          2\n",
      "Tilopa                                                                2\n",
      "Stephen Batchelor                                                     2\n",
      "Thanissaro Bhikkhu                                                    2\n",
      "Thomas Merton                                                         2\n",
      "Robert M. Pirsig                                                      2\n",
      "Zen                                                                   1\n",
      "Tara Brach, Radical Acceptance                                        1\n",
      "African Proverb, Swahili                                              1\n",
      "Thomas Carlyle                                                        1\n",
      "Dalai Lama                                                            1\n",
      "The Buddha (Dhammapada verse 112)                                     1\n",
      "David G. Benner                                                       1\n",
      "The Buddha                                                            1\n",
      "Dejan Stojanovic                                                      1\n",
      "Aesop                                                                 1\n",
      "Dilgo Khyentse Rinpoche                                               1\n",
      "Douglas Penick                                                        1\n",
      "Dre Gerald                                                            1\n",
      "E. Stanley Jones on Mahatma Gandhi, Gandhi: Portrayal of a Friend     1\n",
      "Yongey Mingyur                                                        1\n",
      "E.E. Cummings, Selected Poems                                         1\n",
      "Taisen Deshimaru                                                      1\n",
      "Edith Sitwell                                                         1\n",
      "Zen Master Ummon                                                      1\n",
      "English Proverb                                                       1\n",
      "Erich Segal                                                           1\n",
      "French Proverb                                                        1\n",
      "Taigen Dan Leighton                                                   1\n",
      "Gauri Maa                                                             1\n",
      "Gelong Thubten                                                        1\n",
      "Surangama Sutra                                                       1\n",
      "Clarice Lispector                                                     1\n",
      "Zen Master Bon Soeng                                                  1\n",
      "Chuang Tzu                                                            1\n",
      "Christmas Humphreys                                                   1\n",
      "Alan Wilson Watts                                                     1\n",
      "Alfred Korzybski                                                      1\n",
      "Alfred North Whitehead                                                1\n",
      "Allen Ginsberg                                                        1\n",
      "Anne Scottlin                                                         1\n",
      "Yamamoto Tsunetomo                                                    1\n",
      "Wu Hsin                                                               1\n",
      "Basho                                                                 1\n",
      "Benjamin Disraeli                                                     1\n",
      "Winston Churchill                                                     1\n",
      "Bokar Rinpoche                                                        1\n",
      "Brad Warner                                                           1\n",
      "William Scott Wilson                                                  1\n",
      "Buddha                                                                1\n",
      "Wei Wu Wei                                                            1\n",
      "Buson                                                                 1\n",
      "Tsukahara Bokuden                                                     1\n",
      "Toni Packer                                                           1\n",
      "Toba Beta                                                             1\n",
      "Chatral Sangye Dorje Rinpoche                                         1\n",
      "Chinese Proverb                                                       1\n",
      "Chogyam Trungpa Rinpoche                                              1\n",
      "Gyalwang Drukpa                                                       1\n",
      "Chokyi Nyima Rinpoche                                                 1\n",
      "Robert Burton                                                         1\n",
      "Hagakure, Book of the Samurai                                         1\n",
      "Shinshu Roberts                                                       1\n",
      "Leonard Cohen                                                         1\n",
      "Lin Yutang                                                            1\n",
      "Sheng-yen                                                             1\n",
      "Ma-Tsu                                                                1\n",
      "Mahi Sharma                                                           1\n",
      "Marcus Aurelius                                                       1\n",
      "Mark Epstein                                                          1\n",
      "Master Taisen Deshimaru                                               1\n",
      "Matthieu Ricard                                                       1\n",
      "Shantideva                                                            1\n",
      "SN Goenka                                                             1\n",
      "Ryokan                                                                1\n",
      "Mooji                                                                 1\n",
      "Mother Teresa                                                         1\n",
      "Nansen                                                                1\n",
      "Napoleon Hill                                                         1\n",
      "Native American Proverb, Teton Sioux                                  1\n",
      "Naval Ravikant                                                        1\n",
      "Norwegian Proverb                                                     1\n",
      "Nāgārjuna                                                             1\n",
      "Roger Zelazny                                                         1\n",
      "Pascal Mercier                                                        1\n",
      "Robert Sardello                                                       1\n",
      "Peter Matthiessen                                                     1\n",
      "Philippe Djian                                                        1\n",
      "Laozi, Hua Hu Ching                                                   1\n",
      "Shozan Jack Haubner                                                   1\n",
      "Hanshan Deqing                                                        1\n",
      "Koun Yamada                                                           1\n",
      "Hayley Hasselhoff                                                     1\n",
      "Henepola Gunaratana                                                   1\n",
      "Hermann Hesse                                                         1\n",
      "Howard Fast                                                           1\n",
      "Hua Ching Ni                                                          1\n",
      "Hui Hai                                                               1\n",
      "St Basil the Great                                                    1\n",
      "Italian Proverb                                                       1\n",
      "Izumi Shikibu                                                         1\n",
      "J. Krishnamurti                                                       1\n",
      "Jack Kerouac                                                          1\n",
      "Spanish Proverb                                                       1\n",
      "Jaggi Vasudev                                                         1\n",
      "Japanese Proverb                                                      1\n",
      "Jim Butcher                                                           1\n",
      "Jim Rohn                                                              1\n",
      "John Boyle O'Reilly                                                   1\n",
      "John Tarrant                                                          1\n",
      "Joko Beck                                                             1\n",
      "Kamal Ravikant                                                        1\n",
      "Sosan Zenji                                                           1\n",
      "Karl Popper                                                           1\n",
      "Katsuki Sekida, Zen Training                                          1\n",
      "Khenpo Tsultrim Rinpoche                                              1\n",
      "Kittisaro                                                             1\n",
      "Stonepeace                                                            1\n",
      "dtype: int64\n"
     ]
    }
   ],
   "source": [
    "with pd.option_context('display.max_rows', None):\n",
    "    print(auth_grp.sort_values(ascending=False))"
   ]
  },
  {
   "cell_type": "markdown",
   "metadata": {},
   "source": [
    "- List of Authors in *alphabetical order*, with quotation frequency"
   ]
  },
  {
   "cell_type": "code",
   "execution_count": 12,
   "metadata": {},
   "outputs": [
    {
     "name": "stdout",
     "output_type": "stream",
     "text": [
      "Authors\n",
      "17th Karmapa                                                          2\n",
      "Adyashanti                                                            7\n",
      "Aesop                                                                 1\n",
      "African Proverb, Swahili                                              1\n",
      "Ajahn Brahm                                                           3\n",
      "Ajahn Chah                                                           10\n",
      "Alan Watts                                                           38\n",
      "Alan Wilson Watts                                                     1\n",
      "Alfred Korzybski                                                      1\n",
      "Alfred North Whitehead                                                1\n",
      "Allen Ginsberg                                                        1\n",
      "Anne Scottlin                                                         1\n",
      "Anonymous                                                             2\n",
      "B.D. Schiers                                                         18\n",
      "Basho                                                                 1\n",
      "Benjamin Disraeli                                                     1\n",
      "Bodhidharma                                                          13\n",
      "Bokar Rinpoche                                                        1\n",
      "Brad Warner                                                           1\n",
      "Bruce Lee                                                            12\n",
      "Buddha                                                                1\n",
      "Buddhist Proverb                                                      7\n",
      "Buson                                                                 1\n",
      "Byron Katie                                                          20\n",
      "Cati Vanden Breul                                                     2\n",
      "Chamtrul Rinpoche                                                     2\n",
      "Chatral Sangye Dorje Rinpoche                                         1\n",
      "Chinese Proverb                                                       1\n",
      "Chogyam Trungpa Rinpoche                                              1\n",
      "Chokyi Nyima Rinpoche                                                 1\n",
      "Christmas Humphreys                                                   1\n",
      "Chuang Tzu                                                            1\n",
      "Chögyam Trungpa                                                       4\n",
      "Clarice Lispector                                                     1\n",
      "Confucius                                                             2\n",
      "D.T. Suzuki                                                           6\n",
      "Dalai Lama                                                            1\n",
      "Dalai Lama XIV                                                       15\n",
      "David G. Benner                                                       1\n",
      "Deepak Chopra                                                         2\n",
      "Dejan Stojanovic                                                      1\n",
      "Deng Ming-Dao                                                         5\n",
      "Dilgo Khyentse Rinpoche                                               1\n",
      "Douglas Penick                                                        1\n",
      "Dre Gerald                                                            1\n",
      "Dōgen Zenji                                                          26\n",
      "E. Stanley Jones on Mahatma Gandhi, Gandhi: Portrayal of a Friend     1\n",
      "E.E. Cummings, Selected Poems                                         1\n",
      "Eckhart Tolle                                                        59\n",
      "Edith Sitwell                                                         1\n",
      "English Proverb                                                       1\n",
      "Erich Segal                                                           1\n",
      "French Proverb                                                        1\n",
      "Gangaji                                                               3\n",
      "Gauri Maa                                                             1\n",
      "Gelong Thubten                                                        1\n",
      "German Proverb                                                        2\n",
      "Gyalwang Drukpa                                                       1\n",
      "Haemin Sunim                                                         10\n",
      "Hagakure, Book of the Samurai                                         1\n",
      "Hanshan Deqing                                                        1\n",
      "Hayley Hasselhoff                                                     1\n",
      "Henepola Gunaratana                                                   1\n",
      "Hermann Hesse                                                         1\n",
      "Howard Fast                                                           1\n",
      "Hua Ching Ni                                                          1\n",
      "Huang Po                                                              5\n",
      "Hui Hai                                                               1\n",
      "Huineng                                                               3\n",
      "Italian Proverb                                                       1\n",
      "Izumi Shikibu                                                         1\n",
      "J. Krishnamurti                                                       1\n",
      "Jack Kerouac                                                          1\n",
      "Jack Kornfield                                                        6\n",
      "Jaggi Vasudev                                                         1\n",
      "Japanese Proverb                                                      1\n",
      "Jim Butcher                                                           1\n",
      "Jim Rohn                                                              1\n",
      "John Boyle O'Reilly                                                   1\n",
      "John Tarrant                                                          1\n",
      "Joko Beck                                                             1\n",
      "Kamal Ravikant                                                        1\n",
      "Kari Hohne                                                            2\n",
      "Karl Popper                                                           1\n",
      "Katsuki Sekida, Zen Training                                          1\n",
      "Khenpo Tsultrim Rinpoche                                              1\n",
      "Kittisaro                                                             1\n",
      "Koun Yamada                                                           1\n",
      "Lama Surya Das                                                        4\n",
      "Lao Tzu                                                              40\n",
      "Laozi, Hua Hu Ching                                                   1\n",
      "Leonard Cohen                                                         1\n",
      "Lin Yutang                                                            1\n",
      "Linji Yixuan                                                          2\n",
      "Ma-Tsu                                                                1\n",
      "Mahi Sharma                                                           1\n",
      "Marcus Aurelius                                                       1\n",
      "Mark Epstein                                                          1\n",
      "Master Taisen Deshimaru                                               1\n",
      "Matthieu Ricard                                                       1\n",
      "Milarepa                                                              3\n",
      "Ming-Dao Deng                                                         2\n",
      "Mingyur Rinpoche                                                      4\n",
      "Mooji                                                                 1\n",
      "Mother Teresa                                                         1\n",
      "Nansen                                                                1\n",
      "Napoleon Hill                                                         1\n",
      "Native American Proverb, Teton Sioux                                  1\n",
      "Naval Ravikant                                                        1\n",
      "Norwegian Proverb                                                     1\n",
      "Nāgārjuna                                                             1\n",
      "Osho                                                                  2\n",
      "Pascal Mercier                                                        1\n",
      "Pema Chödrön                                                          6\n",
      "Peter Matthiessen                                                     1\n",
      "Philippe Djian                                                        1\n",
      "Pythagoras                                                            2\n",
      "Ram Dass                                                              2\n",
      "Robert Burton                                                         1\n",
      "Robert M. Pirsig                                                      2\n",
      "Robert Sardello                                                       1\n",
      "Roger Zelazny                                                         1\n",
      "Rumi                                                                  3\n",
      "Ryokan                                                                1\n",
      "SN Goenka                                                             1\n",
      "Sadhguru                                                              3\n",
      "Sengcan                                                               3\n",
      "Shantideva                                                            1\n",
      "Sharon Salzberg                                                       4\n",
      "Sheng-yen                                                             1\n",
      "Shinshu Roberts                                                       1\n",
      "Shozan Jack Haubner                                                   1\n",
      "Shunryu Suzuki                                                       17\n",
      "Sosan Zenji                                                           1\n",
      "Spanish Proverb                                                       1\n",
      "St Basil the Great                                                    1\n",
      "Stephen Batchelor                                                     2\n",
      "Stonepeace                                                            1\n",
      "Surangama Sutra                                                       1\n",
      "Taigen Dan Leighton                                                   1\n",
      "Taisen Deshimaru                                                      1\n",
      "Taoist Proverb                                                        4\n",
      "Tara Brach, Radical Acceptance                                        1\n",
      "Teachings of the Buddha                                               3\n",
      "Thanissaro Bhikkhu                                                    2\n",
      "The Buddha                                                            1\n",
      "The Buddha (Dhammapada verse 112)                                     1\n",
      "Thich Nhat Hanh                                                      31\n",
      "Thomas Carlyle                                                        1\n",
      "Thomas Merton                                                         2\n",
      "Tilopa                                                                2\n",
      "Toba Beta                                                             1\n",
      "Toni Packer                                                           1\n",
      "Tsukahara Bokuden                                                     1\n",
      "Wei Wu Wei                                                            1\n",
      "William Scott Wilson                                                  1\n",
      "Winston Churchill                                                     1\n",
      "Wu Hsin                                                               1\n",
      "Yamamoto Tsunetomo                                                    1\n",
      "Yongey Mingyur                                                        1\n",
      "Zen                                                                   1\n",
      "Zen Master Bon Soeng                                                  1\n",
      "Zen Master Ummon                                                      1\n",
      "Zen Proverb                                                          25\n",
      "Zhuangzi                                                              8\n",
      "dtype: int64\n"
     ]
    }
   ],
   "source": [
    "with pd.option_context('display.max_rows', None):\n",
    "    print(auth_grp)"
   ]
  },
  {
   "cell_type": "code",
   "execution_count": null,
   "metadata": {},
   "outputs": [],
   "source": []
  }
 ],
 "metadata": {
  "kernelspec": {
   "display_name": "Python 3",
   "language": "python",
   "name": "python3"
  },
  "language_info": {
   "codemirror_mode": {
    "name": "ipython",
    "version": 3
   },
   "file_extension": ".py",
   "mimetype": "text/x-python",
   "name": "python",
   "nbconvert_exporter": "python",
   "pygments_lexer": "ipython3",
   "version": "3.8.0"
  }
 },
 "nbformat": 4,
 "nbformat_minor": 4
}
