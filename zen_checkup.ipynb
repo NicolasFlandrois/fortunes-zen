{
 "cells": [
  {
   "cell_type": "code",
   "execution_count": 1,
   "metadata": {},
   "outputs": [],
   "source": [
    "#!/usr/bin/python3\n",
    "# -*- coding: UTF8 -*-\n",
    "# Author: Nicolas Flandrois\n",
    "# Date: Monday, May 20th, 2020"
   ]
  },
  {
   "cell_type": "code",
   "execution_count": 2,
   "metadata": {},
   "outputs": [],
   "source": [
    "import os\n",
    "import pandas as pd\n",
    "\n",
    "pd.set_option(\"max_colwidth\", None)"
   ]
  },
  {
   "cell_type": "code",
   "execution_count": 3,
   "metadata": {},
   "outputs": [],
   "source": [
    "def fortune2dataframe(source_file):\n",
    "    \"\"\"Given the Source file path/name, this function will transform the raw\n",
    "    data into a Pandas' dataframe. This function is specifically made to suite\n",
    "    a fortune-mod standardized format, as an input.\"\"\"\n",
    "    with open(source_file, 'r') as f:\n",
    "        data = f.read()\n",
    "        quote_list = data.replace('\\n', '').split('%')\n",
    "        clean_list = [x.strip() for x in quote_list if x]\n",
    "        splited_quotes = [n.split('     — ') for n in clean_list]\n",
    "\n",
    "        df = pd.DataFrame(splited_quotes, columns=['Quotes', 'Authors'])\n",
    "\n",
    "        return df"
   ]
  },
  {
   "cell_type": "markdown",
   "metadata": {},
   "source": [
    "**Define the Dataframe** & **Sampling**"
   ]
  },
  {
   "cell_type": "code",
   "execution_count": 4,
   "metadata": {},
   "outputs": [
    {
     "data": {
      "text/html": [
       "<div>\n",
       "<style scoped>\n",
       "    .dataframe tbody tr th:only-of-type {\n",
       "        vertical-align: middle;\n",
       "    }\n",
       "\n",
       "    .dataframe tbody tr th {\n",
       "        vertical-align: top;\n",
       "    }\n",
       "\n",
       "    .dataframe thead th {\n",
       "        text-align: right;\n",
       "    }\n",
       "</style>\n",
       "<table border=\"1\" class=\"dataframe\">\n",
       "  <thead>\n",
       "    <tr style=\"text-align: right;\">\n",
       "      <th></th>\n",
       "      <th>Quotes</th>\n",
       "      <th>Authors</th>\n",
       "    </tr>\n",
       "  </thead>\n",
       "  <tbody>\n",
       "    <tr>\n",
       "      <th>0</th>\n",
       "      <td>Zen is not some kind of excitement, but concentration on our usual everyday routine.</td>\n",
       "      <td>Shunryu Suzuki</td>\n",
       "    </tr>\n",
       "    <tr>\n",
       "      <th>1</th>\n",
       "      <td>Since the time we were born from our mother's womb, the only thing we have seen is the present. We have never seen the past and we have never seen the future. Wherever we are, whatever time it is, it is only the present.</td>\n",
       "      <td>Khenpo Tsultrim Rinpoche</td>\n",
       "    </tr>\n",
       "    <tr>\n",
       "      <th>2</th>\n",
       "      <td>Rather than being your thoughts and emotions, be the awareness behind them.</td>\n",
       "      <td>Eckhart Tolle</td>\n",
       "    </tr>\n",
       "    <tr>\n",
       "      <th>3</th>\n",
       "      <td>Your suffering is never caused by the person you are blaming.</td>\n",
       "      <td>Byron Katie</td>\n",
       "    </tr>\n",
       "    <tr>\n",
       "      <th>4</th>\n",
       "      <td>Death is not an error. It is not a failure. It is taking off a tight shoe.</td>\n",
       "      <td>Ram Dass</td>\n",
       "    </tr>\n",
       "    <tr>\n",
       "      <th>...</th>\n",
       "      <td>...</td>\n",
       "      <td>...</td>\n",
       "    </tr>\n",
       "    <tr>\n",
       "      <th>365</th>\n",
       "      <td>Beyond all vanities, fights, and desires, omnipotent silence lies.</td>\n",
       "      <td>Dejan Stojanovic</td>\n",
       "    </tr>\n",
       "    <tr>\n",
       "      <th>366</th>\n",
       "      <td>The nearer a man comes to a calm mind, the closer he is to strength.</td>\n",
       "      <td>Marcus Aurelius</td>\n",
       "    </tr>\n",
       "    <tr>\n",
       "      <th>367</th>\n",
       "      <td>Without silence there cannot be any real appreciation in life.</td>\n",
       "      <td>Deepak Chopra</td>\n",
       "    </tr>\n",
       "    <tr>\n",
       "      <th>368</th>\n",
       "      <td>Whatever the circumstance, bodily movement or stillness, feeling well or distressed, with good concentration or scattered attention, everything can be brought back to awareness.</td>\n",
       "      <td>Kittisaro</td>\n",
       "    </tr>\n",
       "    <tr>\n",
       "      <th>369</th>\n",
       "      <td>When you speak, the Tao is silent. When you are silent, the Tao speaks.</td>\n",
       "      <td>B. D. Schiers</td>\n",
       "    </tr>\n",
       "  </tbody>\n",
       "</table>\n",
       "<p>370 rows × 2 columns</p>\n",
       "</div>"
      ],
      "text/plain": [
       "                                                                                                                                                                                                                           Quotes  \\\n",
       "0                                                                                                                                            Zen is not some kind of excitement, but concentration on our usual everyday routine.   \n",
       "1    Since the time we were born from our mother's womb, the only thing we have seen is the present. We have never seen the past and we have never seen the future. Wherever we are, whatever time it is, it is only the present.   \n",
       "2                                                                                                                                                     Rather than being your thoughts and emotions, be the awareness behind them.   \n",
       "3                                                                                                                                                                   Your suffering is never caused by the person you are blaming.   \n",
       "4                                                                                                                                                      Death is not an error. It is not a failure. It is taking off a tight shoe.   \n",
       "..                                                                                                                                                                                                                            ...   \n",
       "365                                                                                                                                                            Beyond all vanities, fights, and desires, omnipotent silence lies.   \n",
       "366                                                                                                                                                          The nearer a man comes to a calm mind, the closer he is to strength.   \n",
       "367                                                                                                                                                                Without silence there cannot be any real appreciation in life.   \n",
       "368                                             Whatever the circumstance, bodily movement or stillness, feeling well or distressed, with good concentration or scattered attention, everything can be brought back to awareness.   \n",
       "369                                                                                                                                                       When you speak, the Tao is silent. When you are silent, the Tao speaks.   \n",
       "\n",
       "                      Authors  \n",
       "0              Shunryu Suzuki  \n",
       "1    Khenpo Tsultrim Rinpoche  \n",
       "2               Eckhart Tolle  \n",
       "3                 Byron Katie  \n",
       "4                    Ram Dass  \n",
       "..                        ...  \n",
       "365          Dejan Stojanovic  \n",
       "366           Marcus Aurelius  \n",
       "367             Deepak Chopra  \n",
       "368                 Kittisaro  \n",
       "369             B. D. Schiers  \n",
       "\n",
       "[370 rows x 2 columns]"
      ]
     },
     "execution_count": 4,
     "metadata": {},
     "output_type": "execute_result"
    }
   ],
   "source": [
    "df = fortune2dataframe(os.path.abspath(\"zen\"))\n",
    "df"
   ]
  },
  {
   "cell_type": "markdown",
   "metadata": {},
   "source": [
    "# A bit of Checkup for cleanning\n",
    "- Checking for **Duplicate rows** (same Quote & same Author)"
   ]
  },
  {
   "cell_type": "code",
   "execution_count": 5,
   "metadata": {},
   "outputs": [
    {
     "data": {
      "text/html": [
       "<div>\n",
       "<style scoped>\n",
       "    .dataframe tbody tr th:only-of-type {\n",
       "        vertical-align: middle;\n",
       "    }\n",
       "\n",
       "    .dataframe tbody tr th {\n",
       "        vertical-align: top;\n",
       "    }\n",
       "\n",
       "    .dataframe thead th {\n",
       "        text-align: right;\n",
       "    }\n",
       "</style>\n",
       "<table border=\"1\" class=\"dataframe\">\n",
       "  <thead>\n",
       "    <tr style=\"text-align: right;\">\n",
       "      <th></th>\n",
       "      <th>Quotes</th>\n",
       "      <th>Authors</th>\n",
       "    </tr>\n",
       "  </thead>\n",
       "  <tbody>\n",
       "  </tbody>\n",
       "</table>\n",
       "</div>"
      ],
      "text/plain": [
       "Empty DataFrame\n",
       "Columns: [Quotes, Authors]\n",
       "Index: []"
      ]
     },
     "execution_count": 5,
     "metadata": {},
     "output_type": "execute_result"
    }
   ],
   "source": [
    "df[df.duplicated()]"
   ]
  },
  {
   "cell_type": "markdown",
   "metadata": {},
   "source": [
    "- Checking for **Duplicate Quotes** (Same Quote, Any Author)"
   ]
  },
  {
   "cell_type": "code",
   "execution_count": 6,
   "metadata": {},
   "outputs": [
    {
     "data": {
      "text/html": [
       "<div>\n",
       "<style scoped>\n",
       "    .dataframe tbody tr th:only-of-type {\n",
       "        vertical-align: middle;\n",
       "    }\n",
       "\n",
       "    .dataframe tbody tr th {\n",
       "        vertical-align: top;\n",
       "    }\n",
       "\n",
       "    .dataframe thead th {\n",
       "        text-align: right;\n",
       "    }\n",
       "</style>\n",
       "<table border=\"1\" class=\"dataframe\">\n",
       "  <thead>\n",
       "    <tr style=\"text-align: right;\">\n",
       "      <th></th>\n",
       "      <th>Quotes</th>\n",
       "      <th>Authors</th>\n",
       "    </tr>\n",
       "  </thead>\n",
       "  <tbody>\n",
       "  </tbody>\n",
       "</table>\n",
       "</div>"
      ],
      "text/plain": [
       "Empty DataFrame\n",
       "Columns: [Quotes, Authors]\n",
       "Index: []"
      ]
     },
     "execution_count": 6,
     "metadata": {},
     "output_type": "execute_result"
    }
   ],
   "source": [
    "df[df.duplicated(['Quotes'])]"
   ]
  },
  {
   "cell_type": "markdown",
   "metadata": {},
   "source": [
    "- Checking for **unwanted data** (typical issues from initial parsing Twitter2Fortune Bot)"
   ]
  },
  {
   "cell_type": "code",
   "execution_count": 7,
   "metadata": {},
   "outputs": [
    {
     "data": {
      "text/html": [
       "<div>\n",
       "<style scoped>\n",
       "    .dataframe tbody tr th:only-of-type {\n",
       "        vertical-align: middle;\n",
       "    }\n",
       "\n",
       "    .dataframe tbody tr th {\n",
       "        vertical-align: top;\n",
       "    }\n",
       "\n",
       "    .dataframe thead th {\n",
       "        text-align: right;\n",
       "    }\n",
       "</style>\n",
       "<table border=\"1\" class=\"dataframe\">\n",
       "  <thead>\n",
       "    <tr style=\"text-align: right;\">\n",
       "      <th></th>\n",
       "      <th>Quotes</th>\n",
       "      <th>Authors</th>\n",
       "    </tr>\n",
       "  </thead>\n",
       "  <tbody>\n",
       "  </tbody>\n",
       "</table>\n",
       "</div>"
      ],
      "text/plain": [
       "Empty DataFrame\n",
       "Columns: [Quotes, Authors]\n",
       "Index: []"
      ]
     },
     "execution_count": 7,
     "metadata": {},
     "output_type": "execute_result"
    }
   ],
   "source": [
    "df[df['Quotes'].str.contains('http')]\n",
    "\n",
    "df[df['Authors'].str.contains('http')]\n",
    "\n",
    "df[df['Authors'].str.match('None')]"
   ]
  },
  {
   "cell_type": "markdown",
   "metadata": {},
   "source": [
    "# Statistics\n",
    "- **How Many Quotes do we have?**"
   ]
  },
  {
   "cell_type": "code",
   "execution_count": 8,
   "metadata": {},
   "outputs": [
    {
     "data": {
      "text/plain": [
       "370"
      ]
     },
     "execution_count": 8,
     "metadata": {},
     "output_type": "execute_result"
    }
   ],
   "source": [
    "df['Quotes'].count()"
   ]
  },
  {
   "cell_type": "markdown",
   "metadata": {},
   "source": [
    "- **How many Authors do we have?**"
   ]
  },
  {
   "cell_type": "code",
   "execution_count": 9,
   "metadata": {},
   "outputs": [
    {
     "data": {
      "text/plain": [
       "124"
      ]
     },
     "execution_count": 9,
     "metadata": {},
     "output_type": "execute_result"
    }
   ],
   "source": [
    "auth_grp = df.groupby('Authors').size()\n",
    "auth_grp.count()"
   ]
  },
  {
   "cell_type": "markdown",
   "metadata": {},
   "source": [
    "- **Which Author is quoted the most frequently?**"
   ]
  },
  {
   "cell_type": "code",
   "execution_count": 10,
   "metadata": {
    "scrolled": true
   },
   "outputs": [
    {
     "name": "stdout",
     "output_type": "stream",
     "text": [
      "Authors\n",
      "Eckhart Tolle                                                        45\n",
      "Alan Watts                                                           28\n",
      "Thich Nhat Hanh                                                      25\n",
      "Dōgen Zenji                                                          20\n",
      "Shunryu Suzuki                                                       16\n",
      "Dalai Lama XIV                                                       12\n",
      "Byron Katie                                                          12\n",
      "Bruce Lee                                                            11\n",
      "Lao Tzu                                                               9\n",
      "Bodhidharma                                                           9\n",
      "Ajahn Chah                                                            7\n",
      "Adyashanti                                                            7\n",
      "Haemin Sunim                                                          6\n",
      "Lao Tzu, Tao Te Ching                                                 6\n",
      "Jack Kornfield                                                        5\n",
      "Mingyur Rinpoche                                                      4\n",
      "Huang Po                                                              4\n",
      "Sharon Salzberg                                                       4\n",
      "D.T. Suzuki                                                           4\n",
      "Buddhist Proverb                                                      4\n",
      "Pema Chödrön                                                          4\n",
      "Chögyam Trungpa                                                       3\n",
      "Sadhguru                                                              3\n",
      "Zen Proverb                                                           3\n",
      "B. D. Schiers                                                         3\n",
      "Ajahn Brahm                                                           3\n",
      "Lama Surya Das                                                        3\n",
      "Zhuangzi                                                              2\n",
      "Osho                                                                  2\n",
      "Deng Ming-Dao                                                         2\n",
      "Rumi                                                                  2\n",
      "Linji Yixuan                                                          2\n",
      "Ram Dass                                                              2\n",
      "Huineng                                                               2\n",
      "Thomas Merton                                                         2\n",
      "Thanissaro Bhikkhu                                                    2\n",
      "Sengcan                                                               2\n",
      "Stephen Batchelor                                                     2\n",
      "Chamtrul Rinpoche                                                     2\n",
      "Teachings of the Buddha                                               2\n",
      "Gangaji                                                               1\n",
      "German Proverb                                                        1\n",
      "Brad Warner                                                           1\n",
      "Bokar Rinpoche                                                        1\n",
      "Gyalwang Drukpa                                                       1\n",
      "Hagakure, Book of the Samurai                                         1\n",
      "Allen Ginsberg                                                        1\n",
      "Hanshan Deqing                                                        1\n",
      "Hayley Hasselhoff                                                     1\n",
      "Howard Fast                                                           1\n",
      "Hua Ching Ni                                                          1\n",
      "Alfred North Whitehead                                                1\n",
      "Alfred Korzybski                                                      1\n",
      "French Proverb                                                        1\n",
      "Christmas Humphreys                                                   1\n",
      "Buddha                                                                1\n",
      "David G. Benner                                                       1\n",
      "Clarice Lispector                                                     1\n",
      "Izumi Shikibu                                                         1\n",
      "Confucius                                                             1\n",
      "Chogyam Trungpa Rinpoche                                              1\n",
      "Chatral Sangye Dorje Rinpoche                                         1\n",
      "Dalai Lama                                                            1\n",
      "Deepak Chopra                                                         1\n",
      "Chokyi Nyima Rinpoche                                                 1\n",
      "Dejan Stojanovic                                                      1\n",
      "Cati Vanden Breul                                                     1\n",
      "Dilgo Khyentse Rinpoche                                               1\n",
      "Douglas Penick                                                        1\n",
      "Buson                                                                 1\n",
      "E. Stanley Jones on Mahatma Gandhi, Gandhi: Portrayal of a Friend     1\n",
      "E.E. Cummings, Selected Poems                                         1\n",
      "Khenpo Tsultrim Rinpoche                                              1\n",
      "Jack Kerouac                                                          1\n",
      "Tara Brach, Radical Acceptance                                        1\n",
      "Ryokan                                                                1\n",
      "SN Goenka                                                             1\n",
      "Shantideva                                                            1\n",
      "Shinshu Roberts                                                       1\n",
      "Shozan Jack Haubner                                                   1\n",
      "Sosan Zenji                                                           1\n",
      "Surangama Sutra                                                       1\n",
      "Taigen Dan Leighton                                                   1\n",
      "Taisen Deshimaru                                                      1\n",
      "Taoist Proverb                                                        1\n",
      "The Buddha                                                            1\n",
      "Robert M. Pirsig                                                      1\n",
      "The Buddha (Dhammapada verse 112)                                     1\n",
      "Tilopa                                                                1\n",
      "Toni Packer                                                           1\n",
      "William Scott Wilson                                                  1\n",
      "Winston Churchill                                                     1\n",
      "Wu Hsin                                                               1\n",
      "Yamamoto Tsunetomo                                                    1\n",
      "Yongey Mingyur                                                        1\n",
      "Zen                                                                   1\n",
      "Zen Master Ummon                                                      1\n",
      "Roger Zelazny                                                         1\n",
      "Philippe Djian                                                        1\n",
      "Jaggi Vasudev                                                         1\n",
      "Ma-Tsu                                                                1\n",
      "Jim Rohn                                                              1\n",
      "John Tarrant                                                          1\n",
      "Joko Beck                                                             1\n",
      "Kamal Ravikant                                                        1\n",
      "Karl Popper                                                           1\n",
      "Katsuki Sekida, Zen Training                                          1\n",
      "Kittisaro                                                             1\n",
      "Laozi, Hua Hu Ching                                                   1\n",
      "Leonard Cohen                                                         1\n",
      "Lin Yutang                                                            1\n",
      "Marcus Aurelius                                                       1\n",
      "Peter Matthiessen                                                     1\n",
      "Mark Epstein                                                          1\n",
      "Master Taisen Deshimaru                                               1\n",
      "Matthieu Ricard                                                       1\n",
      "Milarepa                                                              1\n",
      "Ming-Dao Deng                                                         1\n",
      "Mooji                                                                 1\n",
      "Nansen                                                                1\n",
      "Napoleon Hill                                                         1\n",
      "Naval Ravikant                                                        1\n",
      "Nāgārjuna                                                             1\n",
      "17th Karmapa                                                          1\n",
      "dtype: int64\n"
     ]
    }
   ],
   "source": [
    "with pd.option_context('display.max_rows', None):\n",
    "    print(auth_grp.sort_values(ascending=False))"
   ]
  },
  {
   "cell_type": "markdown",
   "metadata": {},
   "source": [
    "- List of Authors in *alphabetical order*, with quotation frequency"
   ]
  },
  {
   "cell_type": "code",
   "execution_count": 11,
   "metadata": {},
   "outputs": [
    {
     "name": "stdout",
     "output_type": "stream",
     "text": [
      "Authors\n",
      "17th Karmapa                                                          1\n",
      "Adyashanti                                                            7\n",
      "Ajahn Brahm                                                           3\n",
      "Ajahn Chah                                                            7\n",
      "Alan Watts                                                           28\n",
      "Alfred Korzybski                                                      1\n",
      "Alfred North Whitehead                                                1\n",
      "Allen Ginsberg                                                        1\n",
      "B. D. Schiers                                                         3\n",
      "Bodhidharma                                                           9\n",
      "Bokar Rinpoche                                                        1\n",
      "Brad Warner                                                           1\n",
      "Bruce Lee                                                            11\n",
      "Buddha                                                                1\n",
      "Buddhist Proverb                                                      4\n",
      "Buson                                                                 1\n",
      "Byron Katie                                                          12\n",
      "Cati Vanden Breul                                                     1\n",
      "Chamtrul Rinpoche                                                     2\n",
      "Chatral Sangye Dorje Rinpoche                                         1\n",
      "Chogyam Trungpa Rinpoche                                              1\n",
      "Chokyi Nyima Rinpoche                                                 1\n",
      "Christmas Humphreys                                                   1\n",
      "Chögyam Trungpa                                                       3\n",
      "Clarice Lispector                                                     1\n",
      "Confucius                                                             1\n",
      "D.T. Suzuki                                                           4\n",
      "Dalai Lama                                                            1\n",
      "Dalai Lama XIV                                                       12\n",
      "David G. Benner                                                       1\n",
      "Deepak Chopra                                                         1\n",
      "Dejan Stojanovic                                                      1\n",
      "Deng Ming-Dao                                                         2\n",
      "Dilgo Khyentse Rinpoche                                               1\n",
      "Douglas Penick                                                        1\n",
      "Dōgen Zenji                                                          20\n",
      "E. Stanley Jones on Mahatma Gandhi, Gandhi: Portrayal of a Friend     1\n",
      "E.E. Cummings, Selected Poems                                         1\n",
      "Eckhart Tolle                                                        45\n",
      "French Proverb                                                        1\n",
      "Gangaji                                                               1\n",
      "German Proverb                                                        1\n",
      "Gyalwang Drukpa                                                       1\n",
      "Haemin Sunim                                                          6\n",
      "Hagakure, Book of the Samurai                                         1\n",
      "Hanshan Deqing                                                        1\n",
      "Hayley Hasselhoff                                                     1\n",
      "Howard Fast                                                           1\n",
      "Hua Ching Ni                                                          1\n",
      "Huang Po                                                              4\n",
      "Huineng                                                               2\n",
      "Izumi Shikibu                                                         1\n",
      "Jack Kerouac                                                          1\n",
      "Jack Kornfield                                                        5\n",
      "Jaggi Vasudev                                                         1\n",
      "Jim Rohn                                                              1\n",
      "John Tarrant                                                          1\n",
      "Joko Beck                                                             1\n",
      "Kamal Ravikant                                                        1\n",
      "Karl Popper                                                           1\n",
      "Katsuki Sekida, Zen Training                                          1\n",
      "Khenpo Tsultrim Rinpoche                                              1\n",
      "Kittisaro                                                             1\n",
      "Lama Surya Das                                                        3\n",
      "Lao Tzu                                                               9\n",
      "Lao Tzu, Tao Te Ching                                                 6\n",
      "Laozi, Hua Hu Ching                                                   1\n",
      "Leonard Cohen                                                         1\n",
      "Lin Yutang                                                            1\n",
      "Linji Yixuan                                                          2\n",
      "Ma-Tsu                                                                1\n",
      "Marcus Aurelius                                                       1\n",
      "Mark Epstein                                                          1\n",
      "Master Taisen Deshimaru                                               1\n",
      "Matthieu Ricard                                                       1\n",
      "Milarepa                                                              1\n",
      "Ming-Dao Deng                                                         1\n",
      "Mingyur Rinpoche                                                      4\n",
      "Mooji                                                                 1\n",
      "Nansen                                                                1\n",
      "Napoleon Hill                                                         1\n",
      "Naval Ravikant                                                        1\n",
      "Nāgārjuna                                                             1\n",
      "Osho                                                                  2\n",
      "Pema Chödrön                                                          4\n",
      "Peter Matthiessen                                                     1\n",
      "Philippe Djian                                                        1\n",
      "Ram Dass                                                              2\n",
      "Robert M. Pirsig                                                      1\n",
      "Roger Zelazny                                                         1\n",
      "Rumi                                                                  2\n",
      "Ryokan                                                                1\n",
      "SN Goenka                                                             1\n",
      "Sadhguru                                                              3\n",
      "Sengcan                                                               2\n",
      "Shantideva                                                            1\n",
      "Sharon Salzberg                                                       4\n",
      "Shinshu Roberts                                                       1\n",
      "Shozan Jack Haubner                                                   1\n",
      "Shunryu Suzuki                                                       16\n",
      "Sosan Zenji                                                           1\n",
      "Stephen Batchelor                                                     2\n",
      "Surangama Sutra                                                       1\n",
      "Taigen Dan Leighton                                                   1\n",
      "Taisen Deshimaru                                                      1\n",
      "Taoist Proverb                                                        1\n",
      "Tara Brach, Radical Acceptance                                        1\n",
      "Teachings of the Buddha                                               2\n",
      "Thanissaro Bhikkhu                                                    2\n",
      "The Buddha                                                            1\n",
      "The Buddha (Dhammapada verse 112)                                     1\n",
      "Thich Nhat Hanh                                                      25\n",
      "Thomas Merton                                                         2\n",
      "Tilopa                                                                1\n",
      "Toni Packer                                                           1\n",
      "William Scott Wilson                                                  1\n",
      "Winston Churchill                                                     1\n",
      "Wu Hsin                                                               1\n",
      "Yamamoto Tsunetomo                                                    1\n",
      "Yongey Mingyur                                                        1\n",
      "Zen                                                                   1\n",
      "Zen Master Ummon                                                      1\n",
      "Zen Proverb                                                           3\n",
      "Zhuangzi                                                              2\n",
      "dtype: int64\n"
     ]
    }
   ],
   "source": [
    "with pd.option_context('display.max_rows', None):\n",
    "    print(auth_grp)"
   ]
  },
  {
   "cell_type": "code",
   "execution_count": null,
   "metadata": {},
   "outputs": [],
   "source": []
  }
 ],
 "metadata": {
  "kernelspec": {
   "display_name": "Python 3",
   "language": "python",
   "name": "python3"
  },
  "language_info": {
   "codemirror_mode": {
    "name": "ipython",
    "version": 3
   },
   "file_extension": ".py",
   "mimetype": "text/x-python",
   "name": "python",
   "nbconvert_exporter": "python",
   "pygments_lexer": "ipython3",
   "version": "3.8.0"
  }
 },
 "nbformat": 4,
 "nbformat_minor": 4
}
